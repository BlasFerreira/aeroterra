{
 "cells": [
  {
   "cell_type": "markdown",
   "id": "dd73266d",
   "metadata": {},
   "source": [
    "# Import"
   ]
  },
  {
   "cell_type": "markdown",
   "id": "73062a3e",
   "metadata": {},
   "source": [
    "## Library"
   ]
  },
  {
   "cell_type": "code",
   "execution_count": 143,
   "id": "80cbab50",
   "metadata": {},
   "outputs": [],
   "source": [
    "import pandas as pd\n",
    "import geopandas as gpd\n",
    "import missingno as msno\n",
    "from shapely.geometry import Point"
   ]
  },
  {
   "cell_type": "code",
   "execution_count": 157,
   "id": "416ab921",
   "metadata": {},
   "outputs": [
    {
     "name": "stdout",
     "output_type": "stream",
     "text": [
      "Defaulting to user installation because normal site-packages is not writeable"
     ]
    },
    {
     "name": "stderr",
     "output_type": "stream",
     "text": [
      "WARNING: Ignoring invalid distribution -rotobuf (c:\\users\\blasf\\appdata\\roaming\\python\\python39\\site-packages)\n",
      "WARNING: Ignoring invalid distribution -rotobuf (c:\\users\\blasf\\appdata\\roaming\\python\\python39\\site-packages)\n",
      "WARNING: Ignoring invalid distribution -rotobuf (c:\\users\\blasf\\appdata\\roaming\\python\\python39\\site-packages)\n",
      "WARNING: Ignoring invalid distribution -rotobuf (c:\\users\\blasf\\appdata\\roaming\\python\\python39\\site-packages)\n",
      "\n",
      "[notice] A new release of pip is available: 23.1.2 -> 23.2.1\n",
      "[notice] To update, run: python.exe -m pip install --upgrade pip\n"
     ]
    },
    {
     "name": "stdout",
     "output_type": "stream",
     "text": [
      "\n",
      "Collecting folium\n",
      "  Downloading folium-0.14.0-py2.py3-none-any.whl (102 kB)\n",
      "     -------------------------------------- 102.3/102.3 kB 6.1 MB/s eta 0:00:00\n",
      "Collecting branca>=0.6.0 (from folium)\n",
      "  Downloading branca-0.6.0-py3-none-any.whl (24 kB)\n",
      "Requirement already satisfied: jinja2>=2.9 in c:\\programdata\\anaconda3\\lib\\site-packages (from folium) (2.11.3)\n",
      "Requirement already satisfied: numpy in c:\\users\\blasf\\appdata\\roaming\\python\\python39\\site-packages (from folium) (1.23.4)\n",
      "Requirement already satisfied: requests in c:\\programdata\\anaconda3\\lib\\site-packages (from folium) (2.27.1)\n",
      "Requirement already satisfied: MarkupSafe>=0.23 in c:\\programdata\\anaconda3\\lib\\site-packages (from jinja2>=2.9->folium) (2.0.1)\n",
      "Requirement already satisfied: urllib3<1.27,>=1.21.1 in c:\\programdata\\anaconda3\\lib\\site-packages (from requests->folium) (1.26.9)\n",
      "Requirement already satisfied: certifi>=2017.4.17 in c:\\programdata\\anaconda3\\lib\\site-packages (from requests->folium) (2021.10.8)\n",
      "Requirement already satisfied: charset-normalizer~=2.0.0 in c:\\programdata\\anaconda3\\lib\\site-packages (from requests->folium) (2.0.4)\n",
      "Requirement already satisfied: idna<4,>=2.5 in c:\\programdata\\anaconda3\\lib\\site-packages (from requests->folium) (3.3)\n",
      "Installing collected packages: branca, folium\n",
      "Successfully installed branca-0.6.0 folium-0.14.0\n"
     ]
    }
   ],
   "source": [
    "!pip install folium\n"
   ]
  },
  {
   "cell_type": "markdown",
   "id": "c913c5d4",
   "metadata": {},
   "source": [
    "2.1. Problemática:\n",
    "Una consultora de logística naval necesita visualizar los recorridos de distintos buques y analizar su relación con distintas zonas de interés dentro de ArcGIS."
   ]
  },
  {
   "cell_type": "markdown",
   "id": "1893c2e2",
   "metadata": {},
   "source": [
    "- id_buque: identificador unico de buque.\n",
    "- type: tipo de embarcacion.\n",
    "- course: direccion del barco en esa posicion.\n",
    "- latitude: latitud de la posicion.\n",
    "- longitude: longitud de la posicion.\n",
    "- date: fecha de reporte de la posicion.\n",
    "- Un shp con las zonas de interés (polígonos). Los atributos son los siguientes:\n",
    "- zone_id\n",
    "- zone_name\n",
    "- geometry"
   ]
  },
  {
   "cell_type": "markdown",
   "id": "d6de9d36",
   "metadata": {},
   "source": [
    "2.3. Objetivos:\n",
    "- Se busca agregar el mayor valor agregado posible con los datos disponibles (por ejemplo, __tiempo de permanencia en las distintas zonas__).\n",
    "- Para ello se solicita realizar análisis y enriquecimiento de datos utilizando Python (notebook).\n",
    "- Con la información resultante (csv/shp) publicar las capas en ArcGIS Online.\n",
    "- Crear un Dashboard dentro del portal que permita analizar los recorridos de los barcos dentro y su relación con las zonas de interés."
   ]
  },
  {
   "cell_type": "markdown",
   "id": "2333c776",
   "metadata": {},
   "source": [
    "## Dataset"
   ]
  },
  {
   "cell_type": "markdown",
   "id": "1d5c8530",
   "metadata": {},
   "source": [
    "### ships.csv"
   ]
  },
  {
   "cell_type": "code",
   "execution_count": 151,
   "id": "ac30af36",
   "metadata": {},
   "outputs": [
    {
     "data": {
      "text/html": [
       "<div>\n",
       "<style scoped>\n",
       "    .dataframe tbody tr th:only-of-type {\n",
       "        vertical-align: middle;\n",
       "    }\n",
       "\n",
       "    .dataframe tbody tr th {\n",
       "        vertical-align: top;\n",
       "    }\n",
       "\n",
       "    .dataframe thead th {\n",
       "        text-align: right;\n",
       "    }\n",
       "</style>\n",
       "<table border=\"1\" class=\"dataframe\">\n",
       "  <thead>\n",
       "    <tr style=\"text-align: right;\">\n",
       "      <th></th>\n",
       "      <th>id_buque</th>\n",
       "      <th>type</th>\n",
       "      <th>course</th>\n",
       "      <th>latitude</th>\n",
       "      <th>longitude</th>\n",
       "      <th>date</th>\n",
       "      <th>Velocidad</th>\n",
       "      <th>Bandera</th>\n",
       "    </tr>\n",
       "  </thead>\n",
       "  <tbody>\n",
       "    <tr>\n",
       "      <th>0</th>\n",
       "      <td>8840908</td>\n",
       "      <td>BUQUE TANQUE (PETROLERO)</td>\n",
       "      <td>1.7</td>\n",
       "      <td>-36.087490</td>\n",
       "      <td>-56.198563</td>\n",
       "      <td>2023-03-07 14:47:37</td>\n",
       "      <td>12.7</td>\n",
       "      <td>Islas Marshall</td>\n",
       "    </tr>\n",
       "    <tr>\n",
       "      <th>1</th>\n",
       "      <td>8840908</td>\n",
       "      <td>BUQUE TANQUE (PETROLERO)</td>\n",
       "      <td>1.7</td>\n",
       "      <td>-36.087490</td>\n",
       "      <td>-56.198563</td>\n",
       "      <td>2023-03-07 14:47:37</td>\n",
       "      <td>12.7</td>\n",
       "      <td>Islas Marshall</td>\n",
       "    </tr>\n",
       "    <tr>\n",
       "      <th>2</th>\n",
       "      <td>8840908</td>\n",
       "      <td>BUQUE TANQUE (PETROLERO)</td>\n",
       "      <td>0.9</td>\n",
       "      <td>-36.139480</td>\n",
       "      <td>-56.196513</td>\n",
       "      <td>2023-03-07 14:33:05</td>\n",
       "      <td>13</td>\n",
       "      <td>Islas Marshall</td>\n",
       "    </tr>\n",
       "    <tr>\n",
       "      <th>3</th>\n",
       "      <td>8840908</td>\n",
       "      <td>BUQUE TANQUE (PETROLERO)</td>\n",
       "      <td>359.1</td>\n",
       "      <td>-36.302200</td>\n",
       "      <td>-56.191498</td>\n",
       "      <td>2023-03-07 13:48:08</td>\n",
       "      <td>13.2</td>\n",
       "      <td>Islas Marshall</td>\n",
       "    </tr>\n",
       "    <tr>\n",
       "      <th>4</th>\n",
       "      <td>8840908</td>\n",
       "      <td>BUQUE TANQUE (PETROLERO)</td>\n",
       "      <td>356.8</td>\n",
       "      <td>-36.316813</td>\n",
       "      <td>-56.190623</td>\n",
       "      <td>2023-03-07 13:44:08</td>\n",
       "      <td>13.3</td>\n",
       "      <td>Islas Marshall</td>\n",
       "    </tr>\n",
       "  </tbody>\n",
       "</table>\n",
       "</div>"
      ],
      "text/plain": [
       "   id_buque                      type course   latitude  longitude  \\\n",
       "0   8840908  BUQUE TANQUE (PETROLERO)    1.7 -36.087490 -56.198563   \n",
       "1   8840908  BUQUE TANQUE (PETROLERO)    1.7 -36.087490 -56.198563   \n",
       "2   8840908  BUQUE TANQUE (PETROLERO)    0.9 -36.139480 -56.196513   \n",
       "3   8840908  BUQUE TANQUE (PETROLERO)  359.1 -36.302200 -56.191498   \n",
       "4   8840908  BUQUE TANQUE (PETROLERO)  356.8 -36.316813 -56.190623   \n",
       "\n",
       "                  date Velocidad         Bandera  \n",
       "0  2023-03-07 14:47:37      12.7  Islas Marshall  \n",
       "1  2023-03-07 14:47:37      12.7  Islas Marshall  \n",
       "2  2023-03-07 14:33:05        13  Islas Marshall  \n",
       "3  2023-03-07 13:48:08      13.2  Islas Marshall  \n",
       "4  2023-03-07 13:44:08      13.3  Islas Marshall  "
      ]
     },
     "execution_count": 151,
     "metadata": {},
     "output_type": "execute_result"
    }
   ],
   "source": [
    "df_ships = pd.read_csv('B:/work/prueba tencica/data/ships.csv',index_col=False)\n",
    "df_ships.drop(columns=['Unnamed: 0'], inplace=True )\n",
    "df_ships.head()"
   ]
  },
  {
   "cell_type": "code",
   "execution_count": 125,
   "id": "12fc17a6",
   "metadata": {},
   "outputs": [
    {
     "data": {
      "text/plain": [
       "array([8840908, 2410206, 2040206,    4415,    7315], dtype=int64)"
      ]
     },
     "execution_count": 125,
     "metadata": {},
     "output_type": "execute_result"
    }
   ],
   "source": [
    "df_ships['id_buque'].unique()"
   ]
  },
  {
   "cell_type": "code",
   "execution_count": 126,
   "id": "6731d59c",
   "metadata": {},
   "outputs": [],
   "source": [
    "df_ships = df_ships.loc[ df_ships['id_buque'] == 8840908 ]"
   ]
  },
  {
   "cell_type": "markdown",
   "id": "08cf94f8",
   "metadata": {},
   "source": [
    "### zonas.shp"
   ]
  },
  {
   "cell_type": "code",
   "execution_count": 153,
   "id": "611683fd",
   "metadata": {
    "scrolled": true
   },
   "outputs": [
    {
     "data": {
      "text/html": [
       "<div>\n",
       "<style scoped>\n",
       "    .dataframe tbody tr th:only-of-type {\n",
       "        vertical-align: middle;\n",
       "    }\n",
       "\n",
       "    .dataframe tbody tr th {\n",
       "        vertical-align: top;\n",
       "    }\n",
       "\n",
       "    .dataframe thead th {\n",
       "        text-align: right;\n",
       "    }\n",
       "</style>\n",
       "<table border=\"1\" class=\"dataframe\">\n",
       "  <thead>\n",
       "    <tr style=\"text-align: right;\">\n",
       "      <th></th>\n",
       "      <th>Shape_Leng</th>\n",
       "      <th>Shape_Area</th>\n",
       "      <th>zone_id</th>\n",
       "      <th>zone_name</th>\n",
       "      <th>geometry</th>\n",
       "    </tr>\n",
       "  </thead>\n",
       "  <tbody>\n",
       "    <tr>\n",
       "      <th>0</th>\n",
       "      <td>0.606469</td>\n",
       "      <td>0.002140</td>\n",
       "      <td>2</td>\n",
       "      <td>Rio Parana</td>\n",
       "      <td>POLYGON ((-58.76149 -34.24093, -58.76007 -34.2...</td>\n",
       "    </tr>\n",
       "    <tr>\n",
       "      <th>1</th>\n",
       "      <td>9.431244</td>\n",
       "      <td>2.918412</td>\n",
       "      <td>1</td>\n",
       "      <td>Rio de la plata</td>\n",
       "      <td>POLYGON ((-58.51747 -34.44602, -58.45395 -34.3...</td>\n",
       "    </tr>\n",
       "  </tbody>\n",
       "</table>\n",
       "</div>"
      ],
      "text/plain": [
       "   Shape_Leng  Shape_Area zone_id        zone_name  \\\n",
       "0    0.606469    0.002140       2       Rio Parana   \n",
       "1    9.431244    2.918412       1  Rio de la plata   \n",
       "\n",
       "                                            geometry  \n",
       "0  POLYGON ((-58.76149 -34.24093, -58.76007 -34.2...  \n",
       "1  POLYGON ((-58.51747 -34.44602, -58.45395 -34.3...  "
      ]
     },
     "execution_count": 153,
     "metadata": {},
     "output_type": "execute_result"
    }
   ],
   "source": [
    "# Leer el archivo SHP\n",
    "gdf_new = gpd.read_file('B:/work/prueba tencica/data/zonas.shp')\n",
    "gdf_new.head()"
   ]
  },
  {
   "cell_type": "code",
   "execution_count": 155,
   "id": "d01e18b3",
   "metadata": {},
   "outputs": [
    {
     "data": {
      "text/plain": [
       "array(['Rio Parana', 'Rio de la plata'], dtype=object)"
      ]
     },
     "execution_count": 155,
     "metadata": {},
     "output_type": "execute_result"
    }
   ],
   "source": [
    "gdf_new['zone_name'].unique()"
   ]
  },
  {
   "cell_type": "markdown",
   "id": "1397be7d",
   "metadata": {
    "heading_collapsed": true
   },
   "source": [
    "# MISIGNO ANALISIS\n"
   ]
  },
  {
   "cell_type": "markdown",
   "id": "c764c741",
   "metadata": {
    "hidden": true
   },
   "source": [
    "Using the missingno Python library to Identify and Visualise Missing Data "
   ]
  },
  {
   "cell_type": "code",
   "execution_count": 128,
   "id": "eaafd0cf",
   "metadata": {
    "hidden": true
   },
   "outputs": [
    {
     "data": {
      "text/plain": [
       "<AxesSubplot:>"
      ]
     },
     "execution_count": 128,
     "metadata": {},
     "output_type": "execute_result"
    },
    {
     "data": {
      "image/png": "[encoded data removed]",
      "text/plain": [
       "<Figure size 1800x720 with 2 Axes>"
      ]
     },
     "metadata": {
      "needs_background": "light"
     },
     "output_type": "display_data"
    }
   ],
   "source": [
    "msno.matrix(data.sample(250))"
   ]
  },
  {
   "cell_type": "code",
   "execution_count": 129,
   "id": "52e49f03",
   "metadata": {
    "hidden": true
   },
   "outputs": [
    {
     "data": {
      "text/plain": [
       "<AxesSubplot:>"
      ]
     },
     "execution_count": 129,
     "metadata": {},
     "output_type": "execute_result"
    },
    {
     "data": {
      "image/png": "[encoded data removed]",
      "text/plain": [
       "<Figure size 1800x720 with 3 Axes>"
      ]
     },
     "metadata": {
      "needs_background": "light"
     },
     "output_type": "display_data"
    }
   ],
   "source": [
    "msno.bar(data.sample(1000))"
   ]
  },
  {
   "cell_type": "markdown",
   "id": "3dc48f67",
   "metadata": {},
   "source": [
    "# Plot"
   ]
  },
  {
   "cell_type": "code",
   "execution_count": 130,
   "id": "74a3ab7f",
   "metadata": {},
   "outputs": [
    {
     "data": {
      "text/html": [
       "<div>\n",
       "<style scoped>\n",
       "    .dataframe tbody tr th:only-of-type {\n",
       "        vertical-align: middle;\n",
       "    }\n",
       "\n",
       "    .dataframe tbody tr th {\n",
       "        vertical-align: top;\n",
       "    }\n",
       "\n",
       "    .dataframe thead th {\n",
       "        text-align: right;\n",
       "    }\n",
       "</style>\n",
       "<table border=\"1\" class=\"dataframe\">\n",
       "  <thead>\n",
       "    <tr style=\"text-align: right;\">\n",
       "      <th></th>\n",
       "      <th>Unnamed: 0</th>\n",
       "      <th>id_buque</th>\n",
       "      <th>type</th>\n",
       "      <th>course</th>\n",
       "      <th>latitude</th>\n",
       "      <th>longitude</th>\n",
       "      <th>date</th>\n",
       "      <th>Velocidad</th>\n",
       "      <th>Bandera</th>\n",
       "      <th>time_diff</th>\n",
       "      <th>total_time</th>\n",
       "    </tr>\n",
       "  </thead>\n",
       "  <tbody>\n",
       "    <tr>\n",
       "      <th>0</th>\n",
       "      <td>0</td>\n",
       "      <td>8840908</td>\n",
       "      <td>BUQUE TANQUE (PETROLERO)</td>\n",
       "      <td>1.7</td>\n",
       "      <td>-36.087490</td>\n",
       "      <td>-56.198563</td>\n",
       "      <td>2023-03-07 14:47:37</td>\n",
       "      <td>12.7</td>\n",
       "      <td>Islas Marshall</td>\n",
       "      <td>0 days 00:00:00</td>\n",
       "      <td>43154.0</td>\n",
       "    </tr>\n",
       "    <tr>\n",
       "      <th>1</th>\n",
       "      <td>1</td>\n",
       "      <td>8840908</td>\n",
       "      <td>BUQUE TANQUE (PETROLERO)</td>\n",
       "      <td>1.7</td>\n",
       "      <td>-36.087490</td>\n",
       "      <td>-56.198563</td>\n",
       "      <td>2023-03-07 14:47:37</td>\n",
       "      <td>12.7</td>\n",
       "      <td>Islas Marshall</td>\n",
       "      <td>0 days 00:14:32</td>\n",
       "      <td>43154.0</td>\n",
       "    </tr>\n",
       "    <tr>\n",
       "      <th>2</th>\n",
       "      <td>2</td>\n",
       "      <td>8840908</td>\n",
       "      <td>BUQUE TANQUE (PETROLERO)</td>\n",
       "      <td>0.9</td>\n",
       "      <td>-36.139480</td>\n",
       "      <td>-56.196513</td>\n",
       "      <td>2023-03-07 14:33:05</td>\n",
       "      <td>13</td>\n",
       "      <td>Islas Marshall</td>\n",
       "      <td>0 days 00:44:57</td>\n",
       "      <td>43154.0</td>\n",
       "    </tr>\n",
       "    <tr>\n",
       "      <th>3</th>\n",
       "      <td>3</td>\n",
       "      <td>8840908</td>\n",
       "      <td>BUQUE TANQUE (PETROLERO)</td>\n",
       "      <td>359.1</td>\n",
       "      <td>-36.302200</td>\n",
       "      <td>-56.191498</td>\n",
       "      <td>2023-03-07 13:48:08</td>\n",
       "      <td>13.2</td>\n",
       "      <td>Islas Marshall</td>\n",
       "      <td>0 days 00:04:00</td>\n",
       "      <td>43154.0</td>\n",
       "    </tr>\n",
       "    <tr>\n",
       "      <th>4</th>\n",
       "      <td>4</td>\n",
       "      <td>8840908</td>\n",
       "      <td>BUQUE TANQUE (PETROLERO)</td>\n",
       "      <td>356.8</td>\n",
       "      <td>-36.316813</td>\n",
       "      <td>-56.190623</td>\n",
       "      <td>2023-03-07 13:44:08</td>\n",
       "      <td>13.3</td>\n",
       "      <td>Islas Marshall</td>\n",
       "      <td>0 days 00:14:01</td>\n",
       "      <td>43154.0</td>\n",
       "    </tr>\n",
       "  </tbody>\n",
       "</table>\n",
       "</div>"
      ],
      "text/plain": [
       "   Unnamed: 0  id_buque                      type course   latitude  \\\n",
       "0           0   8840908  BUQUE TANQUE (PETROLERO)    1.7 -36.087490   \n",
       "1           1   8840908  BUQUE TANQUE (PETROLERO)    1.7 -36.087490   \n",
       "2           2   8840908  BUQUE TANQUE (PETROLERO)    0.9 -36.139480   \n",
       "3           3   8840908  BUQUE TANQUE (PETROLERO)  359.1 -36.302200   \n",
       "4           4   8840908  BUQUE TANQUE (PETROLERO)  356.8 -36.316813   \n",
       "\n",
       "   longitude                date Velocidad         Bandera       time_diff  \\\n",
       "0 -56.198563 2023-03-07 14:47:37      12.7  Islas Marshall 0 days 00:00:00   \n",
       "1 -56.198563 2023-03-07 14:47:37      12.7  Islas Marshall 0 days 00:14:32   \n",
       "2 -56.196513 2023-03-07 14:33:05        13  Islas Marshall 0 days 00:44:57   \n",
       "3 -56.191498 2023-03-07 13:48:08      13.2  Islas Marshall 0 days 00:04:00   \n",
       "4 -56.190623 2023-03-07 13:44:08      13.3  Islas Marshall 0 days 00:14:01   \n",
       "\n",
       "   total_time  \n",
       "0     43154.0  \n",
       "1     43154.0  \n",
       "2     43154.0  \n",
       "3     43154.0  \n",
       "4     43154.0  "
      ]
     },
     "execution_count": 130,
     "metadata": {},
     "output_type": "execute_result"
    }
   ],
   "source": [
    "# Convert the 'date' column to datetime\n",
    "df_ships['date'] = pd.to_datetime(df_ships['date'])\n",
    "# Calculate the time difference between each row\n",
    "df_ships['time_diff'] = df_ships.sort_values('date').groupby('id_buque')['date'].diff()\n",
    "# Calculate the total time spent by each ship in seconds\n",
    "df_ships['total_time'] = df_ships.groupby('id_buque')['time_diff'].transform('sum').dt.total_seconds()\n",
    "# Display the first few rows of the DataFrame\n",
    "df_ships.head()"
   ]
  },
  {
   "cell_type": "code",
   "execution_count": 131,
   "id": "0ec5def4",
   "metadata": {},
   "outputs": [
    {
     "data": {
      "text/plain": [
       "<AxesSubplot:>"
      ]
     },
     "execution_count": 131,
     "metadata": {},
     "output_type": "execute_result"
    },
    {
     "data": {
      "image/png": "[encoded data removed]",
      "text/plain": [
       "<Figure size 720x720 with 2 Axes>"
      ]
     },
     "metadata": {
      "needs_background": "light"
     },
     "output_type": "display_data"
    }
   ],
   "source": [
    "\n",
    "# Convert the longitude and latitude to a geometric point\n",
    "df_ships['geometry'] = df_ships.apply(lambda row: Point(row.longitude, row.latitude), axis=1)\n",
    "# Convert the DataFrame to a GeoDataFrame\n",
    "gdf_ships = gpd.GeoDataFrame(df_ships, geometry='geometry')\n",
    "# Create a larger figure and axis\n",
    "fig, ax = plt.subplots(1, 1, figsize=(10, 10))\n",
    "# Plot the zones\n",
    "gdf_new.plot(column='zone_name', legend=True, ax=ax)\n",
    "# Plot the total time spent by each ship\n",
    "gdf_ships.plot(column='total_time', legend=True, ax=ax, marker='o', markersize=5, cmap='viridis')"
   ]
  },
  {
   "cell_type": "code",
   "execution_count": null,
   "id": "575a0805",
   "metadata": {},
   "outputs": [],
   "source": [
    "# Import necessary libraries\n",
    "import pandas as pd\n",
    "import geopandas as gpd\n",
    "from shapely.geometry import Point\n",
    "import folium\n",
    "from datetime import datetime\n",
    "# Load the ship data\n",
    "url = 'https://raw.githubusercontent.com/BlasFerreira/aeroterra/main/data/ships.csv'\n",
    "df_ships = pd.read_csv(url)\n",
    "# Convert the 'date' column to datetime\n",
    "df_ships['date'] = pd.to_datetime(df_ships['date'])\n",
    "# Calculate the total time spent by each ship\n",
    "df_ships['total_time'] = df_ships.groupby('id_buque')['date'].diff().dt.total_seconds().fillna(0)\n",
    "# Convert the DataFrame to a GeoDataFrame\n",
    "df_ships['geometry'] = df_ships.apply(lambda row: Point(row.longitude, row.latitude), axis=1)\n",
    "gdf_ships = gpd.GeoDataFrame(df_ships, geometry='geometry')\n",
    "# Create a folium map centered on the average coordinates\n",
    "avg_lat = gdf_ships['latitude'].mean()\n",
    "avg_lon = gdf_ships['longitude'].mean()\n",
    "m = folium.Map(location=[avg_lat, avg_lon], zoom_start=10)\n",
    "# Add the ship points to the map\n",
    "for idx, row in gdf_ships.iterrows():\n",
    "    # The color depends on the total time spent\n",
    "    color = 'green' if row['total_time'] > df_ships['total_time'].median() else 'red'\n",
    "    folium.Marker([row['latitude'], row['longitude']], popup=str(row['id_buque']), icon=folium.Icon(color=color)).add_to(m)\n",
    "# Display the map\n",
    "m"
   ]
  }
 ],
 "metadata": {
  "kernelspec": {
   "display_name": "Python 3 (ipykernel)",
   "language": "python",
   "name": "python3"
  },
  "language_info": {
   "codemirror_mode": {
    "name": "ipython",
    "version": 3
   },
   "file_extension": ".py",
   "mimetype": "text/x-python",
   "name": "python",
   "nbconvert_exporter": "python",
   "pygments_lexer": "ipython3",
   "version": "3.9.12"
  },
  "toc": {
   "base_numbering": 1,
   "nav_menu": {},
   "number_sections": true,
   "sideBar": true,
   "skip_h1_title": false,
   "title_cell": "Table of Contents",
   "title_sidebar": "Contents",
   "toc_cell": false,
   "toc_position": {},
   "toc_section_display": true,
   "toc_window_display": false
  }
 },
 "nbformat": 4,
 "nbformat_minor": 5
}
