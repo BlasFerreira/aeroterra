{
 "cells": [
  {
   "cell_type": "markdown",
   "id": "dd73266d",
   "metadata": {},
   "source": [
    "# Import"
   ]
  },
  {
   "cell_type": "markdown",
   "id": "73062a3e",
   "metadata": {},
   "source": [
    "## Library"
   ]
  },
  {
   "cell_type": "code",
   "execution_count": 2,
   "id": "80cbab50",
   "metadata": {},
   "outputs": [],
   "source": [
    "import pandas as pd\n",
    "import geopandas as gpd\n",
    "import missingno as msno"
   ]
  },
  {
   "cell_type": "markdown",
   "id": "c913c5d4",
   "metadata": {},
   "source": [
    "2.1. Problemática:\n",
    "Una consultora de logística naval necesita visualizar los recorridos de distintos buques y analizar su relación con distintas zonas de interés dentro de ArcGIS."
   ]
  },
  {
   "cell_type": "markdown",
   "id": "1893c2e2",
   "metadata": {},
   "source": [
    "- id_buque: identificador unico de buque.\n",
    "- type: tipo de embarcacion.\n",
    "- course: direccion del barco en esa posicion.\n",
    "- latitude: latitud de la posicion.\n",
    "- longitude: longitud de la posicion.\n",
    "- date: fecha de reporte de la posicion.\n",
    "- Un shp con las zonas de interés (polígonos). Los atributos son los siguientes:\n",
    "- zone_id\n",
    "- zone_name\n",
    "- geometry"
   ]
  },
  {
   "cell_type": "markdown",
   "id": "d6de9d36",
   "metadata": {},
   "source": [
    "2.3. Objetivos:\n",
    "- Se busca agregar el mayor valor agregado posible con los datos disponibles (por ejemplo, __tiempo de permanencia en las distintas zonas__).\n",
    "- Para ello se solicita realizar análisis y enriquecimiento de datos utilizando Python (notebook).\n",
    "- Con la información resultante (csv/shp) publicar las capas en ArcGIS Online.\n",
    "- Crear un Dashboard dentro del portal que permita analizar los recorridos de los barcos dentro y su relación con las zonas de interés."
   ]
  },
  {
   "cell_type": "markdown",
   "id": "1397be7d",
   "metadata": {},
   "source": [
    "# MISIGNO ANALISIS\n"
   ]
  },
  {
   "cell_type": "markdown",
   "id": "c764c741",
   "metadata": {},
   "source": [
    "Using the missingno Python library to Identify and Visualise Missing Data "
   ]
  },
  {
   "cell_type": "code",
   "execution_count": 3,
   "id": "b14edd5f",
   "metadata": {},
   "outputs": [
    {
     "data": {
      "text/plain": [
       "'B:\\\\work\\\\prueba tencica'"
      ]
     },
     "execution_count": 3,
     "metadata": {},
     "output_type": "execute_result"
    }
   ],
   "source": [
    "pwd"
   ]
  },
  {
   "cell_type": "code",
   "execution_count": 4,
   "id": "a734ad9f",
   "metadata": {},
   "outputs": [
    {
     "name": "stdout",
     "output_type": "stream",
     "text": [
      " Volume in drive B is Data\n",
      " Volume Serial Number is 5E52-9EC0\n",
      "\n",
      " Directory of B:\\work\\prueba tencica\n",
      "\n",
      "07/20/2023  11:02 PM    <DIR>          .\n",
      "07/20/2023  11:02 PM    <DIR>          ..\n",
      "07/18/2023  09:09 PM    <DIR>          .ipynb_checkpoints\n",
      "07/18/2023  09:09 PM    <DIR>          data\n",
      "07/18/2023  09:45 PM    <DIR>          env\n",
      "07/17/2023  06:09 PM           546,779 Evaluación Técnica SE.zip\n",
      "03/23/2023  06:37 PM           267,187 Prueba Técnica SE.pdf\n",
      "07/20/2023  11:02 PM            32,892 Untitled.ipynb\n",
      "               3 File(s)        846,858 bytes\n",
      "               5 Dir(s)   4,477,779,968 bytes free\n"
     ]
    }
   ],
   "source": [
    "ls "
   ]
  },
  {
   "cell_type": "code",
   "execution_count": 5,
   "id": "ac30af36",
   "metadata": {},
   "outputs": [
    {
     "data": {
      "text/html": [
       "<div>\n",
       "<style scoped>\n",
       "    .dataframe tbody tr th:only-of-type {\n",
       "        vertical-align: middle;\n",
       "    }\n",
       "\n",
       "    .dataframe tbody tr th {\n",
       "        vertical-align: top;\n",
       "    }\n",
       "\n",
       "    .dataframe thead th {\n",
       "        text-align: right;\n",
       "    }\n",
       "</style>\n",
       "<table border=\"1\" class=\"dataframe\">\n",
       "  <thead>\n",
       "    <tr style=\"text-align: right;\">\n",
       "      <th></th>\n",
       "      <th>Unnamed: 0</th>\n",
       "      <th>id_buque</th>\n",
       "      <th>type</th>\n",
       "      <th>course</th>\n",
       "      <th>latitude</th>\n",
       "      <th>longitude</th>\n",
       "      <th>date</th>\n",
       "      <th>Velocidad</th>\n",
       "      <th>Bandera</th>\n",
       "    </tr>\n",
       "  </thead>\n",
       "  <tbody>\n",
       "    <tr>\n",
       "      <th>0</th>\n",
       "      <td>0</td>\n",
       "      <td>8840908</td>\n",
       "      <td>BUQUE TANQUE (PETROLERO)</td>\n",
       "      <td>1.7</td>\n",
       "      <td>-36.087490</td>\n",
       "      <td>-56.198563</td>\n",
       "      <td>2023-03-07 14:47:37</td>\n",
       "      <td>12.7</td>\n",
       "      <td>Islas Marshall</td>\n",
       "    </tr>\n",
       "    <tr>\n",
       "      <th>1</th>\n",
       "      <td>1</td>\n",
       "      <td>8840908</td>\n",
       "      <td>BUQUE TANQUE (PETROLERO)</td>\n",
       "      <td>1.7</td>\n",
       "      <td>-36.087490</td>\n",
       "      <td>-56.198563</td>\n",
       "      <td>2023-03-07 14:47:37</td>\n",
       "      <td>12.7</td>\n",
       "      <td>Islas Marshall</td>\n",
       "    </tr>\n",
       "    <tr>\n",
       "      <th>2</th>\n",
       "      <td>2</td>\n",
       "      <td>8840908</td>\n",
       "      <td>BUQUE TANQUE (PETROLERO)</td>\n",
       "      <td>0.9</td>\n",
       "      <td>-36.139480</td>\n",
       "      <td>-56.196513</td>\n",
       "      <td>2023-03-07 14:33:05</td>\n",
       "      <td>13</td>\n",
       "      <td>Islas Marshall</td>\n",
       "    </tr>\n",
       "    <tr>\n",
       "      <th>3</th>\n",
       "      <td>3</td>\n",
       "      <td>8840908</td>\n",
       "      <td>BUQUE TANQUE (PETROLERO)</td>\n",
       "      <td>359.1</td>\n",
       "      <td>-36.302200</td>\n",
       "      <td>-56.191498</td>\n",
       "      <td>2023-03-07 13:48:08</td>\n",
       "      <td>13.2</td>\n",
       "      <td>Islas Marshall</td>\n",
       "    </tr>\n",
       "    <tr>\n",
       "      <th>4</th>\n",
       "      <td>4</td>\n",
       "      <td>8840908</td>\n",
       "      <td>BUQUE TANQUE (PETROLERO)</td>\n",
       "      <td>356.8</td>\n",
       "      <td>-36.316813</td>\n",
       "      <td>-56.190623</td>\n",
       "      <td>2023-03-07 13:44:08</td>\n",
       "      <td>13.3</td>\n",
       "      <td>Islas Marshall</td>\n",
       "    </tr>\n",
       "    <tr>\n",
       "      <th>...</th>\n",
       "      <td>...</td>\n",
       "      <td>...</td>\n",
       "      <td>...</td>\n",
       "      <td>...</td>\n",
       "      <td>...</td>\n",
       "      <td>...</td>\n",
       "      <td>...</td>\n",
       "      <td>...</td>\n",
       "      <td>...</td>\n",
       "    </tr>\n",
       "    <tr>\n",
       "      <th>34414</th>\n",
       "      <td>34414</td>\n",
       "      <td>7315</td>\n",
       "      <td>REMOLCADOR</td>\n",
       "      <td>97.8</td>\n",
       "      <td>-34.601777</td>\n",
       "      <td>-58.305113</td>\n",
       "      <td>2023-03-07 07:00:10</td>\n",
       "      <td>6.0</td>\n",
       "      <td>Paraguay</td>\n",
       "    </tr>\n",
       "    <tr>\n",
       "      <th>34415</th>\n",
       "      <td>34415</td>\n",
       "      <td>7315</td>\n",
       "      <td>REMOLCADOR</td>\n",
       "      <td>99.1</td>\n",
       "      <td>-34.601740</td>\n",
       "      <td>-58.305448</td>\n",
       "      <td>2023-03-07 07:00:00</td>\n",
       "      <td>6.1</td>\n",
       "      <td>Paraguay</td>\n",
       "    </tr>\n",
       "    <tr>\n",
       "      <th>34416</th>\n",
       "      <td>34416</td>\n",
       "      <td>7315</td>\n",
       "      <td>REMOLCADOR</td>\n",
       "      <td>99.1</td>\n",
       "      <td>-34.601740</td>\n",
       "      <td>-58.305448</td>\n",
       "      <td>2023-03-07 07:00:00</td>\n",
       "      <td>6.1</td>\n",
       "      <td>Paraguay</td>\n",
       "    </tr>\n",
       "    <tr>\n",
       "      <th>34417</th>\n",
       "      <td>34417</td>\n",
       "      <td>7315</td>\n",
       "      <td>REMOLCADOR</td>\n",
       "      <td>99.1</td>\n",
       "      <td>-34.601740</td>\n",
       "      <td>-58.305448</td>\n",
       "      <td>2023-03-07 07:00:00</td>\n",
       "      <td>6.1</td>\n",
       "      <td>Paraguay</td>\n",
       "    </tr>\n",
       "    <tr>\n",
       "      <th>34418</th>\n",
       "      <td>34418</td>\n",
       "      <td>7315</td>\n",
       "      <td>REMOLCADOR</td>\n",
       "      <td>99.1</td>\n",
       "      <td>-34.601740</td>\n",
       "      <td>-58.305448</td>\n",
       "      <td>2023-03-07 07:00:00</td>\n",
       "      <td>6.1</td>\n",
       "      <td>Paraguay</td>\n",
       "    </tr>\n",
       "  </tbody>\n",
       "</table>\n",
       "<p>34419 rows × 9 columns</p>\n",
       "</div>"
      ],
      "text/plain": [
       "       Unnamed: 0  id_buque                      type course   latitude  \\\n",
       "0               0   8840908  BUQUE TANQUE (PETROLERO)    1.7 -36.087490   \n",
       "1               1   8840908  BUQUE TANQUE (PETROLERO)    1.7 -36.087490   \n",
       "2               2   8840908  BUQUE TANQUE (PETROLERO)    0.9 -36.139480   \n",
       "3               3   8840908  BUQUE TANQUE (PETROLERO)  359.1 -36.302200   \n",
       "4               4   8840908  BUQUE TANQUE (PETROLERO)  356.8 -36.316813   \n",
       "...           ...       ...                       ...    ...        ...   \n",
       "34414       34414      7315                REMOLCADOR   97.8 -34.601777   \n",
       "34415       34415      7315                REMOLCADOR   99.1 -34.601740   \n",
       "34416       34416      7315                REMOLCADOR   99.1 -34.601740   \n",
       "34417       34417      7315                REMOLCADOR   99.1 -34.601740   \n",
       "34418       34418      7315                REMOLCADOR   99.1 -34.601740   \n",
       "\n",
       "       longitude                 date Velocidad         Bandera  \n",
       "0     -56.198563  2023-03-07 14:47:37      12.7  Islas Marshall  \n",
       "1     -56.198563  2023-03-07 14:47:37      12.7  Islas Marshall  \n",
       "2     -56.196513  2023-03-07 14:33:05        13  Islas Marshall  \n",
       "3     -56.191498  2023-03-07 13:48:08      13.2  Islas Marshall  \n",
       "4     -56.190623  2023-03-07 13:44:08      13.3  Islas Marshall  \n",
       "...          ...                  ...       ...             ...  \n",
       "34414 -58.305113  2023-03-07 07:00:10       6.0        Paraguay  \n",
       "34415 -58.305448  2023-03-07 07:00:00       6.1        Paraguay  \n",
       "34416 -58.305448  2023-03-07 07:00:00       6.1        Paraguay  \n",
       "34417 -58.305448  2023-03-07 07:00:00       6.1        Paraguay  \n",
       "34418 -58.305448  2023-03-07 07:00:00       6.1        Paraguay  \n",
       "\n",
       "[34419 rows x 9 columns]"
      ]
     },
     "execution_count": 5,
     "metadata": {},
     "output_type": "execute_result"
    }
   ],
   "source": [
    "data = pd.read_csv('B:/work/prueba tencica/data/ships.csv')\n",
    "data"
   ]
  },
  {
   "cell_type": "code",
   "execution_count": null,
   "id": "dfeb3043",
   "metadata": {},
   "outputs": [],
   "source": []
  },
  {
   "cell_type": "code",
   "execution_count": 12,
   "id": "eaafd0cf",
   "metadata": {},
   "outputs": [
    {
     "data": {
      "text/plain": [
       "<AxesSubplot:>"
      ]
     },
     "execution_count": 12,
     "metadata": {},
     "output_type": "execute_result"
    },
    {
     "data": {
      "image/png": "[encoded data removed]",
      "text/plain": [
       "<Figure size 1800x720 with 2 Axes>"
      ]
     },
     "metadata": {
      "needs_background": "light"
     },
     "output_type": "display_data"
    }
   ],
   "source": [
    "msno.matrix(data.sample(250))"
   ]
  },
  {
   "cell_type": "code",
   "execution_count": 13,
   "id": "52e49f03",
   "metadata": {},
   "outputs": [
    {
     "data": {
      "text/plain": [
       "<AxesSubplot:>"
      ]
     },
     "execution_count": 13,
     "metadata": {},
     "output_type": "execute_result"
    },
    {
     "data": {
      "image/png": "[encoded data removed]",
      "text/plain": [
       "<Figure size 1800x720 with 3 Axes>"
      ]
     },
     "metadata": {
      "needs_background": "light"
     },
     "output_type": "display_data"
    }
   ],
   "source": [
    "msno.bar(data.sample(1000))"
   ]
  },
  {
   "cell_type": "code",
   "execution_count": null,
   "id": "9833a6b2",
   "metadata": {},
   "outputs": [],
   "source": []
  },
  {
   "cell_type": "code",
   "execution_count": 6,
   "id": "611683fd",
   "metadata": {
    "scrolled": true
   },
   "outputs": [
    {
     "data": {
      "text/html": [
       "<div>\n",
       "<style scoped>\n",
       "    .dataframe tbody tr th:only-of-type {\n",
       "        vertical-align: middle;\n",
       "    }\n",
       "\n",
       "    .dataframe tbody tr th {\n",
       "        vertical-align: top;\n",
       "    }\n",
       "\n",
       "    .dataframe thead th {\n",
       "        text-align: right;\n",
       "    }\n",
       "</style>\n",
       "<table border=\"1\" class=\"dataframe\">\n",
       "  <thead>\n",
       "    <tr style=\"text-align: right;\">\n",
       "      <th></th>\n",
       "      <th>Shape_Leng</th>\n",
       "      <th>Shape_Area</th>\n",
       "      <th>zone_id</th>\n",
       "      <th>zone_name</th>\n",
       "      <th>geometry</th>\n",
       "    </tr>\n",
       "  </thead>\n",
       "  <tbody>\n",
       "    <tr>\n",
       "      <th>0</th>\n",
       "      <td>0.606469</td>\n",
       "      <td>0.002140</td>\n",
       "      <td>2</td>\n",
       "      <td>Rio Parana</td>\n",
       "      <td>POLYGON ((-58.76149 -34.24093, -58.76007 -34.2...</td>\n",
       "    </tr>\n",
       "    <tr>\n",
       "      <th>1</th>\n",
       "      <td>9.431244</td>\n",
       "      <td>2.918412</td>\n",
       "      <td>1</td>\n",
       "      <td>Rio de la plata</td>\n",
       "      <td>POLYGON ((-58.51747 -34.44602, -58.45395 -34.3...</td>\n",
       "    </tr>\n",
       "  </tbody>\n",
       "</table>\n",
       "</div>"
      ],
      "text/plain": [
       "   Shape_Leng  Shape_Area zone_id        zone_name  \\\n",
       "0    0.606469    0.002140       2       Rio Parana   \n",
       "1    9.431244    2.918412       1  Rio de la plata   \n",
       "\n",
       "                                            geometry  \n",
       "0  POLYGON ((-58.76149 -34.24093, -58.76007 -34.2...  \n",
       "1  POLYGON ((-58.51747 -34.44602, -58.45395 -34.3...  "
      ]
     },
     "execution_count": 6,
     "metadata": {},
     "output_type": "execute_result"
    }
   ],
   "source": [
    "# Leer el archivo SHP\n",
    "geodataframe = gpd.read_file('B:/work/prueba tencica/data/zonas.shp')\n",
    "geodataframe"
   ]
  },
  {
   "cell_type": "code",
   "execution_count": 17,
   "id": "2871c437",
   "metadata": {},
   "outputs": [
    {
     "data": {
      "image/png": "[encoded data removed]",
      "text/plain": [
       "<Figure size 576x576 with 1 Axes>"
      ]
     },
     "metadata": {
      "needs_background": "light"
     },
     "output_type": "display_data"
    }
   ],
   "source": [
    "gdf = gpd.GeoDataFrame(geodataframe, crs=\"EPSG:4326\", geometry=geodataframe['geometry'])\n",
    "\n",
    "# Visualización del mapa\n",
    "fig, ax = plt.subplots(figsize=(8, 8))\n",
    "gdf.boundary.plot(ax=ax, linewidth=2, color='blue', label='Borde de polígonos')\n",
    "gdf.plot(ax=ax, alpha=0.4, color='lightblue', label='Polígonos')\n",
    "ax.set_title('Visualización de Polígonos Geoespaciales')\n",
    "plt.legend()\n",
    "plt.show()"
   ]
  },
  {
   "cell_type": "code",
   "execution_count": 15,
   "id": "b421c378",
   "metadata": {},
   "outputs": [
    {
     "data": {
      "text/plain": [
       "0    POLYGON ((-58.76149 -34.24093, -58.76007 -34.2...\n",
       "1    POLYGON ((-58.51747 -34.44602, -58.45395 -34.3...\n",
       "Name: geometry, dtype: geometry"
      ]
     },
     "execution_count": 15,
     "metadata": {},
     "output_type": "execute_result"
    }
   ],
   "source": [
    "geodataframe['geometry']"
   ]
  },
  {
   "cell_type": "code",
   "execution_count": 7,
   "id": "9cee9db0",
   "metadata": {},
   "outputs": [
    {
     "data": {
      "text/plain": [
       "(2, 5)"
      ]
     },
     "execution_count": 7,
     "metadata": {},
     "output_type": "execute_result"
    }
   ],
   "source": [
    "geodataframe.shape"
   ]
  },
  {
   "cell_type": "code",
   "execution_count": 8,
   "id": "2fb8fb47",
   "metadata": {},
   "outputs": [
    {
     "data": {
      "text/plain": [
       "7315       19912\n",
       "2040206     6784\n",
       "2410206     6591\n",
       "8840908      995\n",
       "4415         137\n",
       "Name: id_buque, dtype: int64"
      ]
     },
     "execution_count": 8,
     "metadata": {},
     "output_type": "execute_result"
    }
   ],
   "source": [
    "data['id_buque'].value_counts()"
   ]
  },
  {
   "cell_type": "code",
   "execution_count": 9,
   "id": "ab0ba6bb",
   "metadata": {},
   "outputs": [
    {
     "data": {
      "text/plain": [
       "Paraguay          19912\n",
       "Liberia           13375\n",
       "Islas Marshall      995\n",
       "Mauricio            137\n",
       "Name: Bandera, dtype: int64"
      ]
     },
     "execution_count": 9,
     "metadata": {},
     "output_type": "execute_result"
    }
   ],
   "source": [
    "data['Bandera'].value_counts()"
   ]
  },
  {
   "cell_type": "code",
   "execution_count": 10,
   "id": "369810f0",
   "metadata": {},
   "outputs": [
    {
     "data": {
      "text/plain": [
       "REMOLCADOR                  19912\n",
       "CARGA GENERAL                6784\n",
       "GRANELERO (BULK CARRIER)     6591\n",
       "BUQUE TANQUE (PETROLERO)      995\n",
       "BUQUE DESCONOCIDO             137\n",
       "Name: type, dtype: int64"
      ]
     },
     "execution_count": 10,
     "metadata": {},
     "output_type": "execute_result"
    }
   ],
   "source": [
    "data['type'].value_counts()"
   ]
  },
  {
   "cell_type": "code",
   "execution_count": 11,
   "id": "9f0c0e24",
   "metadata": {},
   "outputs": [
    {
     "data": {
      "image/png": "[encoded data removed]",
      "text/plain": [
       "<Figure size 432x288 with 1 Axes>"
      ]
     },
     "metadata": {
      "needs_background": "light"
     },
     "output_type": "display_data"
    }
   ],
   "source": [
    "import geopandas as gpd\n",
    "import matplotlib.pyplot as plt\n",
    "\n",
    "# Lee el archivo Shapefile en un GeoDataFrame\n",
    "gdf = gpd.read_file('B:/work/prueba tencica/data/zonas.shp')\n",
    "\n",
    "# Crea la figura y los ejes del gráfico\n",
    "fig, ax = plt.subplots()\n",
    "\n",
    "# Grafica los datos geoespaciales agrupados por \"zone_name\"\n",
    "gdf.plot(column='zone_name', legend=True, ax=ax)\n",
    "\n",
    "# Muestra el gráfico\n",
    "plt.show()\n"
   ]
  }
 ],
 "metadata": {
  "kernelspec": {
   "display_name": "Python 3 (ipykernel)",
   "language": "python",
   "name": "python3"
  },
  "language_info": {
   "codemirror_mode": {
    "name": "ipython",
    "version": 3
   },
   "file_extension": ".py",
   "mimetype": "text/x-python",
   "name": "python",
   "nbconvert_exporter": "python",
   "pygments_lexer": "ipython3",
   "version": "3.9.12"
  },
  "toc": {
   "base_numbering": 1,
   "nav_menu": {},
   "number_sections": true,
   "sideBar": true,
   "skip_h1_title": false,
   "title_cell": "Table of Contents",
   "title_sidebar": "Contents",
   "toc_cell": false,
   "toc_position": {},
   "toc_section_display": true,
   "toc_window_display": false
  }
 },
 "nbformat": 4,
 "nbformat_minor": 5
}
